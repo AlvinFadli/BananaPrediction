{
 "cells": [
  {
   "cell_type": "code",
   "execution_count": 1,
   "id": "9ce7f6c6",
   "metadata": {},
   "outputs": [],
   "source": [
    "import numpy as np\n",
    "import pandas as pd"
   ]
  },
  {
   "cell_type": "code",
   "execution_count": 2,
   "id": "95351865",
   "metadata": {},
   "outputs": [],
   "source": [
    "df = pd.read_excel('Database bua belum matang.xlsx')\n",
    "dfMatang = pd.read_excel('Database Buah matang.xlsx')\n",
    "dfBusuk = pd.read_excel('Database bua busuk.xlsx')"
   ]
  },
  {
   "cell_type": "code",
   "execution_count": 3,
   "id": "47b5d56e",
   "metadata": {},
   "outputs": [
    {
     "name": "stdout",
     "output_type": "stream",
     "text": [
      "id          int64\n",
      "tgs822      int64\n",
      "tgs2611     int64\n",
      "mq4         int64\n",
      "mq136       int64\n",
      "tgs2620     int64\n",
      "mics5524    int64\n",
      "tgs2602     int64\n",
      "mq2         int64\n",
      "mq5         int64\n",
      "tgs2600     int64\n",
      "tgs826      int64\n",
      "tgs2610     int64\n",
      "tgs813      int64\n",
      "dtype: object\n",
      "id          int64\n",
      "tgs822      int64\n",
      "tgs2611     int64\n",
      "mq4         int64\n",
      "mq136       int64\n",
      "tgs2620     int64\n",
      "mics5524    int64\n",
      "tgs2602     int64\n",
      "mq2         int64\n",
      "mq5         int64\n",
      "tgs2600     int64\n",
      "tgs826      int64\n",
      "tgs2610     int64\n",
      "tgs813      int64\n",
      "dtype: object\n",
      "id          int64\n",
      "tgs822      int64\n",
      "tgs2611     int64\n",
      "mq4         int64\n",
      "mq136       int64\n",
      "tgs2620     int64\n",
      "mics5524    int64\n",
      "tgs2602     int64\n",
      "mq2         int64\n",
      "mq5         int64\n",
      "tgs2600     int64\n",
      "tgs826      int64\n",
      "tgs2610     int64\n",
      "tgs813      int64\n",
      "dtype: object\n"
     ]
    }
   ],
   "source": [
    "print(df.dtypes)\n",
    "print(dfMatang.dtypes)\n",
    "print(dfBusuk.dtypes)"
   ]
  },
  {
   "cell_type": "code",
   "execution_count": 4,
   "id": "ca1ded25",
   "metadata": {},
   "outputs": [
    {
     "data": {
      "text/plain": [
       "<AxesSubplot:>"
      ]
     },
     "execution_count": 4,
     "metadata": {},
     "output_type": "execute_result"
    },
    {
     "data": {
      "image/png": "[encoded data removed]",
      "text/plain": [
       "<Figure size 432x288 with 2 Axes>"
      ]
     },
     "metadata": {
      "needs_background": "light"
     },
     "output_type": "display_data"
    }
   ],
   "source": [
    "import seaborn as sns\n",
    "sns.heatmap(df.isnull(), yticklabels=False, cmap='viridis')"
   ]
  },
  {
   "cell_type": "code",
   "execution_count": 5,
   "id": "fe9fa4c0",
   "metadata": {},
   "outputs": [],
   "source": [
    "df['kode'] = 1\n",
    "dfMatang['kode'] = 2\n",
    "dfBusuk['kode'] = 3"
   ]
  },
  {
   "cell_type": "code",
   "execution_count": 6,
   "id": "698ffedf",
   "metadata": {},
   "outputs": [],
   "source": [
    "dfGabungan = pd.concat([df,dfMatang,dfBusuk], join='outer', ignore_index=True)"
   ]
  },
  {
   "cell_type": "code",
   "execution_count": 7,
   "id": "c0caa0c0",
   "metadata": {},
   "outputs": [
    {
     "data": {
      "text/plain": [
       "(8741, 15)"
      ]
     },
     "execution_count": 7,
     "metadata": {},
     "output_type": "execute_result"
    }
   ],
   "source": [
    "dfGabungan.shape"
   ]
  },
  {
   "cell_type": "code",
   "execution_count": 9,
   "id": "3e601c11",
   "metadata": {},
   "outputs": [
    {
     "data": {
      "text/html": [
       "<div>\n",
       "<style scoped>\n",
       "    .dataframe tbody tr th:only-of-type {\n",
       "        vertical-align: middle;\n",
       "    }\n",
       "\n",
       "    .dataframe tbody tr th {\n",
       "        vertical-align: top;\n",
       "    }\n",
       "\n",
       "    .dataframe thead th {\n",
       "        text-align: right;\n",
       "    }\n",
       "</style>\n",
       "<table border=\"1\" class=\"dataframe\">\n",
       "  <thead>\n",
       "    <tr style=\"text-align: right;\">\n",
       "      <th></th>\n",
       "      <th>id</th>\n",
       "      <th>tgs822</th>\n",
       "      <th>tgs2611</th>\n",
       "      <th>mq4</th>\n",
       "      <th>mq136</th>\n",
       "      <th>tgs2620</th>\n",
       "      <th>mics5524</th>\n",
       "      <th>tgs2602</th>\n",
       "      <th>mq2</th>\n",
       "      <th>mq5</th>\n",
       "      <th>tgs2600</th>\n",
       "      <th>tgs826</th>\n",
       "      <th>tgs2610</th>\n",
       "      <th>tgs813</th>\n",
       "      <th>kode</th>\n",
       "    </tr>\n",
       "  </thead>\n",
       "  <tbody>\n",
       "    <tr>\n",
       "      <th>0</th>\n",
       "      <td>1</td>\n",
       "      <td>32</td>\n",
       "      <td>155</td>\n",
       "      <td>116</td>\n",
       "      <td>34</td>\n",
       "      <td>148</td>\n",
       "      <td>61</td>\n",
       "      <td>120</td>\n",
       "      <td>65</td>\n",
       "      <td>39</td>\n",
       "      <td>83</td>\n",
       "      <td>39</td>\n",
       "      <td>78</td>\n",
       "      <td>6</td>\n",
       "      <td>1</td>\n",
       "    </tr>\n",
       "    <tr>\n",
       "      <th>1</th>\n",
       "      <td>2</td>\n",
       "      <td>31</td>\n",
       "      <td>155</td>\n",
       "      <td>116</td>\n",
       "      <td>35</td>\n",
       "      <td>144</td>\n",
       "      <td>59</td>\n",
       "      <td>118</td>\n",
       "      <td>65</td>\n",
       "      <td>39</td>\n",
       "      <td>83</td>\n",
       "      <td>40</td>\n",
       "      <td>79</td>\n",
       "      <td>6</td>\n",
       "      <td>1</td>\n",
       "    </tr>\n",
       "    <tr>\n",
       "      <th>2</th>\n",
       "      <td>3</td>\n",
       "      <td>32</td>\n",
       "      <td>155</td>\n",
       "      <td>116</td>\n",
       "      <td>33</td>\n",
       "      <td>146</td>\n",
       "      <td>58</td>\n",
       "      <td>119</td>\n",
       "      <td>65</td>\n",
       "      <td>39</td>\n",
       "      <td>82</td>\n",
       "      <td>38</td>\n",
       "      <td>78</td>\n",
       "      <td>5</td>\n",
       "      <td>1</td>\n",
       "    </tr>\n",
       "    <tr>\n",
       "      <th>3</th>\n",
       "      <td>4</td>\n",
       "      <td>32</td>\n",
       "      <td>157</td>\n",
       "      <td>117</td>\n",
       "      <td>34</td>\n",
       "      <td>152</td>\n",
       "      <td>59</td>\n",
       "      <td>118</td>\n",
       "      <td>66</td>\n",
       "      <td>39</td>\n",
       "      <td>83</td>\n",
       "      <td>38</td>\n",
       "      <td>79</td>\n",
       "      <td>6</td>\n",
       "      <td>1</td>\n",
       "    </tr>\n",
       "    <tr>\n",
       "      <th>4</th>\n",
       "      <td>5</td>\n",
       "      <td>33</td>\n",
       "      <td>158</td>\n",
       "      <td>118</td>\n",
       "      <td>34</td>\n",
       "      <td>146</td>\n",
       "      <td>60</td>\n",
       "      <td>117</td>\n",
       "      <td>67</td>\n",
       "      <td>40</td>\n",
       "      <td>83</td>\n",
       "      <td>40</td>\n",
       "      <td>83</td>\n",
       "      <td>5</td>\n",
       "      <td>1</td>\n",
       "    </tr>\n",
       "  </tbody>\n",
       "</table>\n",
       "</div>"
      ],
      "text/plain": [
       "   id  tgs822  tgs2611  mq4  mq136  tgs2620  mics5524  tgs2602  mq2  mq5  \\\n",
       "0   1      32      155  116     34      148        61      120   65   39   \n",
       "1   2      31      155  116     35      144        59      118   65   39   \n",
       "2   3      32      155  116     33      146        58      119   65   39   \n",
       "3   4      32      157  117     34      152        59      118   66   39   \n",
       "4   5      33      158  118     34      146        60      117   67   40   \n",
       "\n",
       "   tgs2600  tgs826  tgs2610  tgs813  kode  \n",
       "0       83      39       78       6     1  \n",
       "1       83      40       79       6     1  \n",
       "2       82      38       78       5     1  \n",
       "3       83      38       79       6     1  \n",
       "4       83      40       83       5     1  "
      ]
     },
     "execution_count": 9,
     "metadata": {},
     "output_type": "execute_result"
    }
   ],
   "source": [
    "dfGabungan.head(5)"
   ]
  },
  {
   "cell_type": "code",
   "execution_count": 10,
   "id": "622df9ef",
   "metadata": {},
   "outputs": [],
   "source": [
    "dfGabungan.drop(['id'],axis=1, inplace=True)"
   ]
  },
  {
   "cell_type": "code",
   "execution_count": 11,
   "id": "b78ceb2d",
   "metadata": {},
   "outputs": [
    {
     "data": {
      "text/plain": [
       "<AxesSubplot:xlabel='kode', ylabel='count'>"
      ]
     },
     "execution_count": 11,
     "metadata": {},
     "output_type": "execute_result"
    },
    {
     "data": {
      "image/png": "[encoded data removed]",
      "text/plain": [
       "<Figure size 432x288 with 1 Axes>"
      ]
     },
     "metadata": {
      "needs_background": "light"
     },
     "output_type": "display_data"
    }
   ],
   "source": [
    "sns.countplot(x='kode', data=dfGabungan)"
   ]
  },
  {
   "cell_type": "code",
   "execution_count": 12,
   "id": "34266929",
   "metadata": {},
   "outputs": [
    {
     "data": {
      "text/plain": [
       "<AxesSubplot:ylabel='Frequency'>"
      ]
     },
     "execution_count": 12,
     "metadata": {},
     "output_type": "execute_result"
    },
    {
     "data": {
      "image/png": "[encoded data removed]",
      "text/plain": [
       "<Figure size 432x288 with 1 Axes>"
      ]
     },
     "metadata": {
      "needs_background": "light"
     },
     "output_type": "display_data"
    }
   ],
   "source": [
    "dfGabungan['mics5524'].plot.hist()"
   ]
  },
  {
   "cell_type": "code",
   "execution_count": 13,
   "id": "614629b5",
   "metadata": {},
   "outputs": [
    {
     "data": {
      "text/plain": [
       "3    4401\n",
       "1    2519\n",
       "2    1821\n",
       "Name: kode, dtype: int64"
      ]
     },
     "execution_count": 13,
     "metadata": {},
     "output_type": "execute_result"
    }
   ],
   "source": [
    "dfGabungan['kode'].value_counts()"
   ]
  },
  {
   "cell_type": "code",
   "execution_count": 14,
   "id": "e089ebff",
   "metadata": {},
   "outputs": [],
   "source": [
    " # Train Data\n",
    "# tentukan dependen dan independen var\n",
    "X= dfGabungan.drop('kode', axis=1)\n",
    "y= dfGabungan['kode']"
   ]
  },
  {
   "cell_type": "code",
   "execution_count": 15,
   "id": "2f954b33",
   "metadata": {},
   "outputs": [],
   "source": [
    "# library untuk split data\n",
    "from sklearn.model_selection import train_test_split\n",
    "# split data ke beberapa bagian\n",
    "X_train, X_test, y_train, y_test = train_test_split(X, y, test_size=0.3,\n",
    "random_state=1)"
   ]
  },
  {
   "cell_type": "code",
   "execution_count": 18,
   "id": "3c33d741",
   "metadata": {},
   "outputs": [],
   "source": [
    "# buat model\n",
    "from sklearn.linear_model import LogisticRegression\n",
    "# buat model\n",
    "logModel = LogisticRegression(max_iter=1000)\n",
    "# latih model\n",
    "dp = logModel.fit(X_train.values, y_train.values)"
   ]
  },
  {
   "cell_type": "code",
   "execution_count": 20,
   "id": "6b5cf90c",
   "metadata": {},
   "outputs": [],
   "source": [
    "import pickle\n",
    "pickle.dump(dp, open('banana.pkl', 'wb'))"
   ]
  }
 ],
 "metadata": {
  "kernelspec": {
   "display_name": "Python 3 (ipykernel)",
   "language": "python",
   "name": "python3"
  },
  "language_info": {
   "codemirror_mode": {
    "name": "ipython",
    "version": 3
   },
   "file_extension": ".py",
   "mimetype": "text/x-python",
   "name": "python",
   "nbconvert_exporter": "python",
   "pygments_lexer": "ipython3",
   "version": "3.10.2"
  }
 },
 "nbformat": 4,
 "nbformat_minor": 5
}
